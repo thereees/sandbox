{
 "cells": [
  {
   "cell_type": "code",
   "execution_count": 10,
   "metadata": {},
   "outputs": [
    {
     "name": "stdout",
     "output_type": "stream",
     "text": [
      "[ 3.14159265  6.28318531  9.42477796 12.56637061 15.70796327 18.84955592\n",
      " 21.99114858 25.13274123 28.27433388 31.41592654] [ 1.22464680e-16 -2.44929360e-16  3.67394040e-16 -4.89858720e-16\n",
      "  6.12323400e-16 -7.34788079e-16  8.57252759e-16 -9.79717439e-16\n",
      "  1.10218212e-15 -1.22464680e-15] [-1.  1. -1.  1. -1.  1. -1.  1. -1.  1.]\n",
      "3 [[-1.00000e+00  7.19653e-01 -2.68220e-01  5.17730e-02 -5.17600e-03\n",
      "   2.68000e-04 -7.00000e-06  0.00000e+00 -0.00000e+00  0.00000e+00]\n",
      " [-7.19653e-01  1.00000e+00 -7.19653e-01  2.68220e-01 -5.17730e-02\n",
      "   5.17600e-03 -2.68000e-04  7.00000e-06 -0.00000e+00  0.00000e+00]\n",
      " [-2.68220e-01  7.19653e-01 -1.00000e+00  7.19653e-01 -2.68220e-01\n",
      "   5.17730e-02 -5.17600e-03  2.68000e-04 -7.00000e-06  0.00000e+00]\n",
      " [-5.17730e-02  2.68220e-01 -7.19653e-01  1.00000e+00 -7.19653e-01\n",
      "   2.68220e-01 -5.17730e-02  5.17600e-03 -2.68000e-04  7.00000e-06]\n",
      " [-5.17600e-03  5.17730e-02 -2.68220e-01  7.19653e-01 -1.00000e+00\n",
      "   7.19653e-01 -2.68220e-01  5.17730e-02 -5.17600e-03  2.68000e-04]\n",
      " [-2.68000e-04  5.17600e-03 -5.17730e-02  2.68220e-01 -7.19653e-01\n",
      "   1.00000e+00 -7.19653e-01  2.68220e-01 -5.17730e-02  5.17600e-03]\n",
      " [-7.00000e-06  2.68000e-04 -5.17600e-03  5.17730e-02 -2.68220e-01\n",
      "   7.19653e-01 -1.00000e+00  7.19653e-01 -2.68220e-01  5.17730e-02]\n",
      " [-0.00000e+00  7.00000e-06 -2.68000e-04  5.17600e-03 -5.17730e-02\n",
      "   2.68220e-01 -7.19653e-01  1.00000e+00 -7.19653e-01  2.68220e-01]\n",
      " [-0.00000e+00  0.00000e+00 -7.00000e-06  2.68000e-04 -5.17600e-03\n",
      "   5.17730e-02 -2.68220e-01  7.19653e-01 -1.00000e+00  7.19653e-01]\n",
      " [-0.00000e+00  0.00000e+00 -0.00000e+00  7.00000e-06 -2.68000e-04\n",
      "   5.17600e-03 -5.17730e-02  2.68220e-01 -7.19653e-01  1.00000e+00]]\n"
     ]
    },
    {
     "data": {
      "image/png": "[encoded data removed]",
      "text/plain": [
       "<Figure size 432x288 with 1 Axes>"
      ]
     },
     "metadata": {
      "needs_background": "light"
     },
     "output_type": "display_data"
    }
   ],
   "source": [
    "import numpy as np\n",
    "import matplotlib.pyplot as pp\n",
    "import matplotlib.cm as cm\n",
    "import math\n",
    "\n",
    "\n",
    "ar = (np.arange(10) + 1) * math.pi\n",
    "print(ar, np.sin(ar), np.cos(ar))\n",
    "label = np.array([-1,1,-1,1,-1,1,-1,1,-1,1])\n",
    "colormap = np.array(['#ff0000', '#00ff00', '#0000ff'])\n",
    "\n",
    "val = 0.\n",
    "#pp.scatter(ar, np.zeros_like(ar) + val, c=colormap[label])\n",
    "\n",
    "def plot (val, v):\n",
    "    vlabel = np.fromfunction(lambda i, j: label[j], v.shape, dtype=np.int)\n",
    "    print(val, np.round(v*vlabel, decimals=6))\n",
    "    v = np.asarray(v).reshape(-1)\n",
    "    vlabel = np.asarray(vlabel).reshape(-1)\n",
    "    pp.scatter(v, np.zeros_like(v) + val, c=colormap[vlabel])\n",
    "\n",
    "#plot(1, (np.matrix(ar).T @ np.matrix(ar))**2)\n",
    "#plot(2, (np.matrix(ar).T @ np.matrix(ar))**20)\n",
    "\n",
    "v = np.fromfunction(lambda i, j: ar[i]-ar[j], (np.matrix(ar).T @ np.matrix(ar)).shape, dtype=np.int)\n",
    "plot(3, np.exp(-1/30*(v)**2))\n",
    "\n",
    "#v = np.fromfunction(lambda i, j: np.cos(ar[i])*np.cos(ar[j]), (np.matrix(ar).T @ np.matrix(ar)).shape, dtype=np.int)\n",
    "#plot(4, v)\n",
    "\n",
    "#v = np.fromfunction(lambda i, j: np.sin(ar[i])*np.sin(ar[j]), (np.matrix(ar).T @ np.matrix(ar)).shape, dtype=np.int)\n",
    "#plot(5, v)\n",
    "\n",
    "pp.show()"
   ]
  }
 ],
 "metadata": {
  "kernelspec": {
   "display_name": "Python 3",
   "language": "python",
   "name": "python3"
  },
  "language_info": {
   "codemirror_mode": {
    "name": "ipython",
    "version": 3
   },
   "file_extension": ".py",
   "mimetype": "text/x-python",
   "name": "python",
   "nbconvert_exporter": "python",
   "pygments_lexer": "ipython3",
   "version": "3.7.6"
  }
 },
 "nbformat": 4,
 "nbformat_minor": 4
}
