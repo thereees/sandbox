{
 "cells": [
  {
   "cell_type": "code",
   "execution_count": 44,
   "metadata": {},
   "outputs": [
    {
     "name": "stdout",
     "output_type": "stream",
     "text": [
      "y1 tensor(0.5000, grad_fn=<SigmoidBackward>)\n",
      "y2 tensor(0.5000, grad_fn=<SigmoidBackward>)\n",
      "alpha1 tensor(0.1000, requires_grad=True) tensor(-2., requires_grad=True) tensor(-0.2000, grad_fn=<MulBackward0>) relu tensor(0., grad_fn=<ReluBackward0>)\n",
      "y1 tensor(0., grad_fn=<ReluBackward0>) tensor(-1., requires_grad=True) sigmoid tensor(0.5000, grad_fn=<SigmoidBackward>)\n",
      "y2 tensor(0., grad_fn=<ReluBackward0>) tensor(1., requires_grad=True) sigmoid tensor(0.5000, grad_fn=<SigmoidBackward>)\n",
      "loss tensor(1.2500, grad_fn=<AddBackward0>)\n",
      "None\n",
      "tensor(-0.)\n"
     ]
    }
   ],
   "source": [
    "import torch\n",
    "import torch.nn.functional as F\n",
    "\n",
    "\n",
    "w1 = torch.tensor(0.1,requires_grad=True)\n",
    "w2 = torch.tensor(-1.,requires_grad=True)\n",
    "w3 = torch.tensor(1.,requires_grad=True)\n",
    "\n",
    "x = torch.tensor(-2.,requires_grad=True)\n",
    "\n",
    "t1 = torch.tensor(1.,requires_grad=True)\n",
    "t2 = torch.tensor(-1.,requires_grad=True)\n",
    "\n",
    "u1 = 0\n",
    "u2 = 0\n",
    "u3 = 0\n",
    "\n",
    "z1 = w1*x\n",
    "alpha1 = F.relu(z1 + u1)\n",
    "y1 = (w2*alpha1 + u2).sigmoid()\n",
    "y2 = (w3*alpha1 + u3).sigmoid()\n",
    "\n",
    "print(\"y1\",y1)\n",
    "print(\"y2\",y2)\n",
    "\n",
    "Loss = 1/2*(y1-t1)**2 + 1/2*(y2-t2)**2\n",
    "\n",
    "print(\"alpha1\", w1, x, w1*x, \"relu\", alpha1)\n",
    "print(\"y1\", alpha1, w2, \"sigmoid\", y1)\n",
    "print(\"y2\", alpha1, w3, \"sigmoid\", y1)\n",
    "print(\"loss\", Loss)\n",
    "\n",
    "Loss.backward()\n",
    "print(Loss.grad)\n",
    "print(w1.grad)"
   ]
  }
 ],
 "metadata": {
  "kernelspec": {
   "display_name": "Python 3",
   "language": "python",
   "name": "python3"
  },
  "language_info": {
   "codemirror_mode": {
    "name": "ipython",
    "version": 3
   },
   "file_extension": ".py",
   "mimetype": "text/x-python",
   "name": "python",
   "nbconvert_exporter": "python",
   "pygments_lexer": "ipython3",
   "version": "3.7.6"
  }
 },
 "nbformat": 4,
 "nbformat_minor": 4
}
