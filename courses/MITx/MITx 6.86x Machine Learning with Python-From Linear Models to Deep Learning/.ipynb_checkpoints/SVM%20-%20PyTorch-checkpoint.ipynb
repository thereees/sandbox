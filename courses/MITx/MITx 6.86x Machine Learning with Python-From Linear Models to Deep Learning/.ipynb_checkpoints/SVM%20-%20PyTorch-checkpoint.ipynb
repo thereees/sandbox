{
 "cells": [
  {
   "cell_type": "markdown",
   "metadata": {},
   "source": [
    "# Support Vector Machines\n",
    "\n",
    "In this notebook, we will build a Support Vector Machine (SVM) that will find the optimal hyperplane that maximizes the margin between two toy data classes using gradient descent. An SVM is supervised machine learning algorithm which can be used for both classification or regression problems. But it's usually used for classification. Given 2 or more labeled classes of data, it acts as a discriminative classifier, formally defined by an optimal hyperplane that seperates all the classes. New examples that are then mapped into that same space can then be categorized based on on which side of the gap they fall.\n",
    "\n",
    "Support vectors are the data points nearest to the hyperplane, the points of a data set that, if removed, would alter the position of the dividing hyperplane. Because of this, they can be considered the critical elements of a data set, they are what help us build our SVM.\n",
    "\n",
    "A hyperplane is a linear decision surface that splits the space into two parts; a hyperplane is a binary classifier. Geometry tells us that a hyperplane is a subspace of one dimension less than its ambient space. For instance, a hyperplane of an n-dimensional space is a flat subset with dimension n − 1. By its nature, it separates the space into two half spaces."
   ]
  },
  {
   "cell_type": "markdown",
   "metadata": {},
   "source": [
    "## Data"
   ]
  },
  {
   "cell_type": "code",
   "execution_count": 3,
   "metadata": {},
   "outputs": [
    {
     "data": {
      "text/plain": [
       "<matplotlib.collections.PathCollection at 0x7f42500da9e8>"
      ]
     },
     "execution_count": 3,
     "metadata": {},
     "output_type": "execute_result"
    },
    {
     "data": {
      "image/png": "[encoded data removed]",
      "text/plain": [
       "<Figure size 432x288 with 1 Axes>"
      ]
     },
     "metadata": {
      "needs_background": "light"
     },
     "output_type": "display_data"
    }
   ],
   "source": [
    "%matplotlib inline\n",
    "import numpy as np\n",
    "import matplotlib.pyplot as plt\n",
    "\n",
    "X = np.array([[0,0],[2,0],[3,0],[0,2],[2,2],[5,1],[5,2],[2,4],[4,4],[5,5]])\n",
    "Y = np.array([-1,-1,-1,-1,-1,1,1,1,1,1])\n",
    "YColor = np.array([\"red\",\"red\",\"red\",\"red\",\"red\",\"green\",\"green\",\"green\",\"green\",\"green\"])\n",
    "plt.scatter(x=X[:, 0], y=X[:, 1], c=YColor)"
   ]
  },
  {
   "cell_type": "markdown",
   "metadata": {},
   "source": [
    "## Support Vector Machine\n",
    "\n",
    "We will be using PyTorch to create our SVM."
   ]
  },
  {
   "cell_type": "code",
   "execution_count": 80,
   "metadata": {},
   "outputs": [],
   "source": [
    "import torch\n",
    "import torch.nn as nn\n",
    "import torch.optim as optim\n",
    "from torch.autograd import Variable\n",
    "\n",
    "class SVM(nn.Module):   \n",
    "    def __init__(self):\n",
    "        super().__init__()\n",
    "        self.svm = nn.Linear(2, 1)\n",
    "        \n",
    "    def forward(self, x):\n",
    "        fwd = self.svm(x)\n",
    "        return fwd"
   ]
  },
  {
   "cell_type": "markdown",
   "metadata": {},
   "source": [
    "Our Support Vector Machine (SVM) is a subclass of the `nn.Module` class and to initialize our SVM, we call the base class' `init` function. Our `Forward` function applies a linear transformation to the incoming data: *y = Ax + b*."
   ]
  },
  {
   "cell_type": "markdown",
   "metadata": {},
   "source": [
    "## Training\n",
    "\n",
    "Now let's go ahead and train our SVM."
   ]
  },
  {
   "cell_type": "code",
   "execution_count": 1,
   "metadata": {},
   "outputs": [
    {
     "ename": "NameError",
     "evalue": "name 'torch' is not defined",
     "output_type": "error",
     "traceback": [
      "\u001b[0;31m---------------------------------------------------------------------------\u001b[0m",
      "\u001b[0;31mNameError\u001b[0m                                 Traceback (most recent call last)",
      "\u001b[0;32m<ipython-input-1-426f13816b70>\u001b[0m in \u001b[0;36m<module>\u001b[0;34m\u001b[0m\n\u001b[1;32m      6\u001b[0m \u001b[0mbatch_size\u001b[0m \u001b[0;34m=\u001b[0m \u001b[0;36m1\u001b[0m\u001b[0;34m\u001b[0m\u001b[0;34m\u001b[0m\u001b[0m\n\u001b[1;32m      7\u001b[0m \u001b[0;34m\u001b[0m\u001b[0m\n\u001b[0;32m----> 8\u001b[0;31m \u001b[0mX\u001b[0m \u001b[0;34m=\u001b[0m \u001b[0mtorch\u001b[0m\u001b[0;34m.\u001b[0m\u001b[0mFloatTensor\u001b[0m\u001b[0;34m(\u001b[0m\u001b[0mX\u001b[0m\u001b[0;34m)\u001b[0m\u001b[0;34m\u001b[0m\u001b[0;34m\u001b[0m\u001b[0m\n\u001b[0m\u001b[1;32m      9\u001b[0m \u001b[0mY\u001b[0m \u001b[0;34m=\u001b[0m \u001b[0mtorch\u001b[0m\u001b[0;34m.\u001b[0m\u001b[0mFloatTensor\u001b[0m\u001b[0;34m(\u001b[0m\u001b[0mY\u001b[0m\u001b[0;34m)\u001b[0m\u001b[0;34m\u001b[0m\u001b[0;34m\u001b[0m\u001b[0m\n\u001b[1;32m     10\u001b[0m \u001b[0mN\u001b[0m \u001b[0;34m=\u001b[0m \u001b[0mlen\u001b[0m\u001b[0;34m(\u001b[0m\u001b[0mY\u001b[0m\u001b[0;34m)\u001b[0m\u001b[0;34m\u001b[0m\u001b[0;34m\u001b[0m\u001b[0m\n",
      "\u001b[0;31mNameError\u001b[0m: name 'torch' is not defined"
     ]
    }
   ],
   "source": [
    "import math\n",
    "from tqdm.notebook import tqdm\n",
    "\n",
    "learning_rate = 0.001\n",
    "epochs = 100000\n",
    "batch_size = 1\n",
    "\n",
    "X = torch.FloatTensor(X)\n",
    "Y = torch.FloatTensor(Y)\n",
    "N = len(Y)\n",
    "\n",
    "last_model = SVM()\n",
    "last_w = None\n",
    "last_b = None\n",
    "for tries in tqdm(range(100)):\n",
    "    #print(\"try:\", tries)\n",
    "    model = SVM()\n",
    "    optimizer = optim.SGD(model.parameters(), lr=learning_rate)\n",
    "    model.train()\n",
    "    for epoch in tqdm(range(epochs)):    \n",
    "        perm = torch.randperm(N)\n",
    "        sum_loss = 0\n",
    "        for i in range(0, N, batch_size):\n",
    "            x = X[perm[i:i + batch_size]]\n",
    "            y = Y[perm[i:i + batch_size]]\n",
    "            x = Variable(x)\n",
    "            y = Variable(y)\n",
    "            optimizer.zero_grad()\n",
    "            output = model(x)\n",
    "            loss = torch.clamp(1 - output * y, min=0)\n",
    "            loss = torch.mean(loss)  # hinge loss\n",
    "            loss.backward()\n",
    "            optimizer.step()\n",
    "            sum_loss += loss.item()    \n",
    "        if(sum_loss <= 0.00):\n",
    "            #print(\"Epoch {}, Loss: {}\".format(epoch, sum_loss))\n",
    "            last_model = model\n",
    "            last_w = w = model.svm.weight.detach().numpy()\n",
    "            last_b = b = model.svm.bias.item()\n",
    "            print(w, b, \"Margin Width: \", 2.0/math.sqrt(w[0,0]*w[0,0]+w[0,1]*w[0,1]))\n",
    "            break\n",
    "\n",
    "    print(\"Original Model\")\n",
    "    print(model.state_dict())    \n",
    "    model.eval()\n",
    "    sum_loss = 0\n",
    "    for i in range(0, N):\n",
    "        x = X[i,:]\n",
    "        y = Y[i]\n",
    "        output = model(x)\n",
    "        loss = torch.clamp(1 - output * y, min=0)\n",
    "        loss = torch.mean(loss)\n",
    "        sum_loss += loss.item()    \n",
    "    print(\"Hinge Loss: \", sum_loss)\n",
    "\n",
    "    print(\"Halved Model\")\n",
    "    model.state_dict()[\"svm.weight\"][:] = model.svm.weight / 2\n",
    "    model.state_dict()[\"svm.bias\"][:] = model.svm.bias / 2\n",
    "    print(model.state_dict())\n",
    "    model.eval()\n",
    "    sum_loss = 0\n",
    "    for i in range(0, N):\n",
    "        x = X[i,:]\n",
    "        y = Y[i]\n",
    "        output = model(x)\n",
    "        loss = torch.clamp(1 - output * y, min=0)\n",
    "        loss = torch.mean(loss)\n",
    "        sum_loss += loss.item()    \n",
    "    print(\"Hinge Loss: \", sum_loss)\n",
    "    model.state_dict()[\"svm.weight\"][:] = model.svm.weight * 2\n",
    "    model.state_dict()[\"svm.bias\"][:] = model.svm.bias * 2\n",
    "        \n"
   ]
  },
  {
   "cell_type": "code",
   "execution_count": 139,
   "metadata": {
    "scrolled": true
   },
   "outputs": [
    {
     "name": "stdout",
     "output_type": "stream",
     "text": [
      "\n",
      "[[1.00214   1.0023698]] -5.009409427642822\n"
     ]
    },
    {
     "data": {
      "image/png": "[encoded data removed]",
      "text/plain": [
       "<Figure size 432x288 with 1 Axes>"
      ]
     },
     "metadata": {
      "needs_background": "light"
     },
     "output_type": "display_data"
    }
   ],
   "source": [
    "def plotline(a, b, c, offset, color):\n",
    "    x = np.linspace(-1, 6, 2)\n",
    "    y = (offset -a * x - c) / b\n",
    "    plt.plot(x, y, c=color)\n",
    "\n",
    "plt.scatter(x=X[:, 0], y=X[:, 1], c=YColor)\n",
    "\n",
    "print(last_w, last_b)\n",
    "plotline(last_w[0,0], last_w[0,1], last_b, 0, \"black\")\n",
    "plotline(last_w[0,0], last_w[0,1], last_b, 1, \"green\")\n",
    "plotline(last_w[0,0], last_w[0,1], last_b,-1, \"red\")"
   ]
  },
  {
   "cell_type": "code",
   "execution_count": null,
   "metadata": {},
   "outputs": [],
   "source": []
  }
 ],
 "metadata": {
  "kernelspec": {
   "display_name": "Python 3",
   "language": "python",
   "name": "python3"
  },
  "language_info": {
   "codemirror_mode": {
    "name": "ipython",
    "version": 3
   },
   "file_extension": ".py",
   "mimetype": "text/x-python",
   "name": "python",
   "nbconvert_exporter": "python",
   "pygments_lexer": "ipython3",
   "version": "3.6.10"
  }
 },
 "nbformat": 4,
 "nbformat_minor": 2
}
