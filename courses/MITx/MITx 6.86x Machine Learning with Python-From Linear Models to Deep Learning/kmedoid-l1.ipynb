{
 "cells": [
  {
   "cell_type": "code",
   "execution_count": 1,
   "metadata": {},
   "outputs": [],
   "source": [
    "import numpy as np\n",
    "from pandas import DataFrame\n",
    "\n",
    "def farray(*args, **kwargs):\n",
    "    kwargs.setdefault(\"dtype\", np.float32)\n",
    "    return np.array(*args, **kwargs)\n",
    "\n",
    "def dist_l1(xa,ya,xb,yb):\n",
    "    return np.abs(xa-xb)+np.abs(ya-yb)\n",
    "\n",
    "def dist_l2(xa,ya,xb,yb):\n",
    "    return np.sqrt((xa-xb)**2+np.abs(ya-yb)**2)\n",
    "\n",
    "def calcDistances_l1(xs,ys,cxs,cys):\n",
    "    return np.array([\n",
    "        [(np.abs(x-cx)+np.abs(y-cy)) for (x,y) in zip(xs,ys)]\n",
    "        for (cx,cy) in zip(centerx,centery)\n",
    "    ])\n",
    "\n",
    "def calcDistances_l2(xs,ys,cxs,cys):\n",
    "    return np.array([\n",
    "        [np.sqrt((x-cx)**2+(y-cy)**2) for (x,y) in zip(xs,ys)]\n",
    "        for (cx,cy) in zip(centerx,centery)\n",
    "    ])\n",
    "\n",
    "\n",
    "def npmap(array, f):\n",
    "    r = np.empty(array.shape)\n",
    "    for (i,j), v in np.ndenumerate(array):\n",
    "        r[i,j] = f(i,j,v)\n",
    "    return r"
   ]
  },
  {
   "cell_type": "code",
   "execution_count": 2,
   "metadata": {},
   "outputs": [],
   "source": [
    "xs = farray([ 0.0,4,0,-5])\n",
    "ys = farray([-6.0,4,0, 2])\n",
    "ka = np.array([float(\"nan\"),float(\"nan\"),float(\"nan\"),float(\"nan\")])"
   ]
  },
  {
   "cell_type": "code",
   "execution_count": 3,
   "metadata": {},
   "outputs": [],
   "source": [
    "centerx = farray([-5.0,0])\n",
    "centery = farray([ 2, -6])"
   ]
  },
  {
   "cell_type": "code",
   "execution_count": 4,
   "metadata": {},
   "outputs": [],
   "source": [
    "%matplotlib inline\n",
    "import matplotlib.pyplot as plt\n",
    "\n",
    "def plot(xs,ys,xa,centerx,centery):\n",
    "    print(xs,ys,xa)\n",
    "    plt.scatter(centerx, centery, c=\"white\", edgecolors=\"black\", s=100)\n",
    "    plt.scatter(xs, ys, c= np.nan_to_num(xa), cmap=\"Set1\")    \n",
    "    plt.show()\n",
    "\n",
    "def step_kmedoid(xs, ys, centerx, centery):\n",
    "    ds = calcDistances_l2(xs, ys, centerx, centery)\n",
    "    mins = np.min(ds, axis=0)\n",
    "    minsi = np.argmin(ds, axis=0)\n",
    "    \n",
    "    print(\"distances\")\n",
    "    print(DataFrame(ds))\n",
    "    print(\"mins\", np.min(ds, axis=0))\n",
    "    print(\"mins idxs\", np.argmin(ds, axis=0))\n",
    "    print(xs.shape[0])\n",
    "    \n",
    "    intradistance = np.empty((xs.shape[0],xs.shape[0]))\n",
    "       \n",
    "    for (i,j), v in np.ndenumerate(intradistance):\n",
    "        intradistance[i,j] = dist_l2(xs[i],ys[i],xs[j],ys[j])\n",
    "    print(intradistance)\n",
    "    \n",
    "    newcenter = np.empty(centerx.shape, dtype=np.int64)\n",
    "    for k in np.unique(minsi):\n",
    "        print(\"for cluster\", k)\n",
    "        indices = np.where(minsi == k)\n",
    "        indicessize = indices[0].shape[0]        \n",
    "        intracost = intradistance[:,indices][indices]\n",
    "        intracost = intracost.reshape(indicessize,indicessize)\n",
    "        intracost = np.sum(intracost, axis=1)        \n",
    "        intracostmin = np.argmin(intracost)\n",
    "        newcenter[k] = indices[0][intracostmin]\n",
    "    print(\"new centers\", newcenter)\n",
    "    centerx = xs[newcenter]\n",
    "    centery = ys[newcenter]\n",
    "    print(\"new centers\", centerx, centery)\n",
    "    \n",
    "    return (minsi, centerx, centery)\n",
    "    #return (minsi, newcenterx, newcentery)"
   ]
  },
  {
   "cell_type": "code",
   "execution_count": 5,
   "metadata": {},
   "outputs": [
    {
     "name": "stdout",
     "output_type": "stream",
     "text": [
      "[ 0.  4.  0. -5.] [-6.  4.  0.  2.] [nan nan nan nan]\n"
     ]
    },
    {
     "data": {
      "image/png": "[encoded data removed]",
      "text/plain": [
       "<Figure size 432x288 with 1 Axes>"
      ]
     },
     "metadata": {
      "needs_background": "light"
     },
     "output_type": "display_data"
    },
    {
     "name": "stdout",
     "output_type": "stream",
     "text": [
      "distances\n",
      "          0          1         2         3\n",
      "0  9.433981   9.219544  5.385165  0.000000\n",
      "1  0.000000  10.770330  6.000000  9.433981\n",
      "mins [0.         9.21954446 5.38516481 0.        ]\n",
      "mins idxs [1 0 0 0]\n",
      "4\n",
      "[[ 0.         10.77032961  6.          9.43398113]\n",
      " [10.77032961  0.          5.65685425  9.21954446]\n",
      " [ 6.          5.65685425  0.          5.38516481]\n",
      " [ 9.43398113  9.21954446  5.38516481  0.        ]]\n",
      "for cluster 0\n",
      "for cluster 1\n",
      "new centers [2 0]\n",
      "new centers [0. 0.] [ 0. -6.]\n",
      "[ 0.  4.  0. -5.] [-6.  4.  0.  2.] [1 0 0 0]\n"
     ]
    },
    {
     "data": {
      "image/png": "[encoded data removed]",
      "text/plain": [
       "<Figure size 432x288 with 1 Axes>"
      ]
     },
     "metadata": {
      "needs_background": "light"
     },
     "output_type": "display_data"
    },
    {
     "name": "stdout",
     "output_type": "stream",
     "text": [
      "distances\n",
      "     0          1    2         3\n",
      "0  6.0   5.656854  0.0  5.385165\n",
      "1  0.0  10.770330  6.0  9.433981\n",
      "mins [0.         5.65685425 0.         5.38516481]\n",
      "mins idxs [1 0 0 0]\n",
      "4\n",
      "[[ 0.         10.77032961  6.          9.43398113]\n",
      " [10.77032961  0.          5.65685425  9.21954446]\n",
      " [ 6.          5.65685425  0.          5.38516481]\n",
      " [ 9.43398113  9.21954446  5.38516481  0.        ]]\n",
      "for cluster 0\n",
      "for cluster 1\n",
      "new centers [2 0]\n",
      "new centers [0. 0.] [ 0. -6.]\n",
      "[ 0.  4.  0. -5.] [-6.  4.  0.  2.] [1 0 0 0]\n"
     ]
    },
    {
     "data": {
      "image/png": "[encoded data removed]",
      "text/plain": [
       "<Figure size 432x288 with 1 Axes>"
      ]
     },
     "metadata": {
      "needs_background": "light"
     },
     "output_type": "display_data"
    },
    {
     "name": "stdout",
     "output_type": "stream",
     "text": [
      "distances\n",
      "     0          1    2         3\n",
      "0  6.0   5.656854  0.0  5.385165\n",
      "1  0.0  10.770330  6.0  9.433981\n",
      "mins [0.         5.65685425 0.         5.38516481]\n",
      "mins idxs [1 0 0 0]\n",
      "4\n",
      "[[ 0.         10.77032961  6.          9.43398113]\n",
      " [10.77032961  0.          5.65685425  9.21954446]\n",
      " [ 6.          5.65685425  0.          5.38516481]\n",
      " [ 9.43398113  9.21954446  5.38516481  0.        ]]\n",
      "for cluster 0\n",
      "for cluster 1\n",
      "new centers [2 0]\n",
      "new centers [0. 0.] [ 0. -6.]\n",
      "[ 0.  4.  0. -5.] [-6.  4.  0.  2.] [1 0 0 0]\n"
     ]
    },
    {
     "data": {
      "image/png": "[encoded data removed]",
      "text/plain": [
       "<Figure size 432x288 with 1 Axes>"
      ]
     },
     "metadata": {
      "needs_background": "light"
     },
     "output_type": "display_data"
    },
    {
     "name": "stdout",
     "output_type": "stream",
     "text": [
      "distances\n",
      "     0          1    2         3\n",
      "0  6.0   5.656854  0.0  5.385165\n",
      "1  0.0  10.770330  6.0  9.433981\n",
      "mins [0.         5.65685425 0.         5.38516481]\n",
      "mins idxs [1 0 0 0]\n",
      "4\n",
      "[[ 0.         10.77032961  6.          9.43398113]\n",
      " [10.77032961  0.          5.65685425  9.21954446]\n",
      " [ 6.          5.65685425  0.          5.38516481]\n",
      " [ 9.43398113  9.21954446  5.38516481  0.        ]]\n",
      "for cluster 0\n",
      "for cluster 1\n",
      "new centers [2 0]\n",
      "new centers [0. 0.] [ 0. -6.]\n",
      "[ 0.  4.  0. -5.] [-6.  4.  0.  2.] [1 0 0 0]\n"
     ]
    },
    {
     "data": {
      "image/png": "[encoded data removed]",
      "text/plain": [
       "<Figure size 432x288 with 1 Axes>"
      ]
     },
     "metadata": {
      "needs_background": "light"
     },
     "output_type": "display_data"
    },
    {
     "name": "stdout",
     "output_type": "stream",
     "text": [
      "distances\n",
      "     0          1    2         3\n",
      "0  6.0   5.656854  0.0  5.385165\n",
      "1  0.0  10.770330  6.0  9.433981\n",
      "mins [0.         5.65685425 0.         5.38516481]\n",
      "mins idxs [1 0 0 0]\n",
      "4\n",
      "[[ 0.         10.77032961  6.          9.43398113]\n",
      " [10.77032961  0.          5.65685425  9.21954446]\n",
      " [ 6.          5.65685425  0.          5.38516481]\n",
      " [ 9.43398113  9.21954446  5.38516481  0.        ]]\n",
      "for cluster 0\n",
      "for cluster 1\n",
      "new centers [2 0]\n",
      "new centers [0. 0.] [ 0. -6.]\n",
      "[ 0.  4.  0. -5.] [-6.  4.  0.  2.] [1 0 0 0]\n"
     ]
    },
    {
     "data": {
      "image/png": "[encoded data removed]",
      "text/plain": [
       "<Figure size 432x288 with 1 Axes>"
      ]
     },
     "metadata": {
      "needs_background": "light"
     },
     "output_type": "display_data"
    },
    {
     "name": "stdout",
     "output_type": "stream",
     "text": [
      "distances\n",
      "     0          1    2         3\n",
      "0  6.0   5.656854  0.0  5.385165\n",
      "1  0.0  10.770330  6.0  9.433981\n",
      "mins [0.         5.65685425 0.         5.38516481]\n",
      "mins idxs [1 0 0 0]\n",
      "4\n",
      "[[ 0.         10.77032961  6.          9.43398113]\n",
      " [10.77032961  0.          5.65685425  9.21954446]\n",
      " [ 6.          5.65685425  0.          5.38516481]\n",
      " [ 9.43398113  9.21954446  5.38516481  0.        ]]\n",
      "for cluster 0\n",
      "for cluster 1\n",
      "new centers [2 0]\n",
      "new centers [0. 0.] [ 0. -6.]\n",
      "end [1 0 0 0] [0. 0.] [ 0. -6.]\n"
     ]
    }
   ],
   "source": [
    "plot(xs,ys,ka,centerx,centery)\n",
    "ka,centerx,centery = step_kmedoid(xs, ys, centerx, centery)\n",
    "plot(xs,ys,ka,centerx,centery)\n",
    "ka,centerx,centery = step_kmedoid(xs, ys, centerx, centery)\n",
    "plot(xs,ys,ka,centerx,centery)\n",
    "ka,centerx,centery = step_kmedoid(xs, ys, centerx, centery)\n",
    "plot(xs,ys,ka,centerx,centery)\n",
    "ka,centerx,centery = step_kmedoid(xs, ys, centerx, centery)\n",
    "plot(xs,ys,ka,centerx,centery)\n",
    "ka,centerx,centery = step_kmedoid(xs, ys, centerx, centery)\n",
    "plot(xs,ys,ka,centerx,centery)\n",
    "ka,centerx,centery = step_kmedoid(xs, ys, centerx, centery)\n",
    "print(\"end\", ka, centerx, centery)"
   ]
  }
 ],
 "metadata": {
  "kernelspec": {
   "display_name": "Python 3",
   "language": "python",
   "name": "python3"
  },
  "language_info": {
   "codemirror_mode": {
    "name": "ipython",
    "version": 3
   },
   "file_extension": ".py",
   "mimetype": "text/x-python",
   "name": "python",
   "nbconvert_exporter": "python",
   "pygments_lexer": "ipython3",
   "version": "3.6.10"
  }
 },
 "nbformat": 4,
 "nbformat_minor": 4
}
