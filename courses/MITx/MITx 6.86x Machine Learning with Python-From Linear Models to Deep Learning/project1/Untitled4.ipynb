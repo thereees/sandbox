{
 "cells": [
  {
   "cell_type": "code",
   "execution_count": 15,
   "metadata": {},
   "outputs": [
    {
     "data": {
      "text/html": [
       "0.0965323526300539"
      ],
      "text/latex": [
       "0.0965323526300539"
      ],
      "text/markdown": [
       "0.0965323526300539"
      ],
      "text/plain": [
       "[1] 0.09653235"
      ]
     },
     "metadata": {},
     "output_type": "display_data"
    },
    {
     "data": {
      "text/html": [
       "0.115966238991414"
      ],
      "text/latex": [
       "0.115966238991414"
      ],
      "text/markdown": [
       "0.115966238991414"
      ],
      "text/plain": [
       "[1] 0.1159662"
      ]
     },
     "metadata": {},
     "output_type": "display_data"
    },
    {
     "data": {
      "text/html": [
       "0.107364127397964"
      ],
      "text/latex": [
       "0.107364127397964"
      ],
      "text/markdown": [
       "0.107364127397964"
      ],
      "text/plain": [
       "[1] 0.1073641"
      ]
     },
     "metadata": {},
     "output_type": "display_data"
    }
   ],
   "source": [
    "points <- c(0, 1)\n",
    "probs <- dnorm(points)\n",
    "prod(probs)\n",
    "\n",
    "newmu = sum(points*probs)\n",
    "\n",
    "prod(dnorm(points, mean=sum(points*probs)))\n",
    "prod(dnorm(points, mean=sum(points*probs)/2))"
   ]
  }
 ],
 "metadata": {
  "kernelspec": {
   "display_name": "R",
   "language": "R",
   "name": "ir"
  },
  "language_info": {
   "codemirror_mode": "r",
   "file_extension": ".r",
   "mimetype": "text/x-r-source",
   "name": "R",
   "pygments_lexer": "r",
   "version": "3.6.3"
  }
 },
 "nbformat": 4,
 "nbformat_minor": 4
}
