{
 "cells": [
  {
   "cell_type": "code",
   "execution_count": 1,
   "metadata": {},
   "outputs": [],
   "source": [
    "import numpy as np\n",
    "from pandas import DataFrame\n",
    "\n",
    "def farray(*args, **kwargs):\n",
    "    kwargs.setdefault(\"dtype\", np.float32)\n",
    "    return np.array(*args, **kwargs)\n",
    "\n",
    "def calcDistances(xs,ys,cxs,cys):\n",
    "    return np.array([\n",
    "        [np.sqrt((x-cx)**2+(y-cy)**2) for (x,y) in zip(xs,ys)]\n",
    "        for (cx,cy) in zip(centerx,centery)\n",
    "    ])\n",
    "\n",
    "def iff(array, f):\n",
    "    r = np.empty(array.shape)\n",
    "    for (i,j), v in np.ndenumerate(array):\n",
    "        r[i,j] = f(i,j,v)\n",
    "    return r"
   ]
  },
  {
   "cell_type": "code",
   "execution_count": 2,
   "metadata": {},
   "outputs": [],
   "source": [
    "xs = farray([ 0.0,4,0,-5])\n",
    "ys = farray([-6.0,4,0, 2])\n",
    "ka = np.array([float(\"nan\"),float(\"nan\"),float(\"nan\"),float(\"nan\")])"
   ]
  },
  {
   "cell_type": "code",
   "execution_count": 3,
   "metadata": {},
   "outputs": [],
   "source": [
    "centerx = farray([-5.0,0])\n",
    "centery = farray([ 2, -6])"
   ]
  },
  {
   "cell_type": "code",
   "execution_count": 4,
   "metadata": {},
   "outputs": [],
   "source": [
    "%matplotlib inline\n",
    "import matplotlib.pyplot as plt\n",
    "\n",
    "def plot(xs,ys,xa,centerx,centery):\n",
    "    print(xs,ys,xa)\n",
    "    plt.scatter(centerx, centery, c=\"white\", edgecolors=\"black\", s=100)\n",
    "    plt.scatter(xs, ys, c= np.nan_to_num(xa), cmap=\"Set1\")    \n",
    "    plt.show()\n",
    "\n",
    "def step_kmeans(xs, ys, centerx, centery):\n",
    "    ds = calcDistances(xs, ys, centerx, centery)\n",
    "    \n",
    "    print(DataFrame(ds))\n",
    "    print(np.min(ds, axis=0))\n",
    "    print(np.argmin(ds, axis=0))\n",
    "    \n",
    "    mins = np.min(ds, axis=0)\n",
    "    minsi = np.argmin(ds, axis=0)\n",
    "    \n",
    "    newcenterx_temp = iff(ds, lambda i,j,v: xs[j] if minsi[j]==i else None)\n",
    "    newcentery_temp = iff(ds, lambda i,j,v: ys[j] if minsi[j]==i else None)\n",
    "    \n",
    "    counts = np.count_nonzero(~np.isnan(newcenterx_temp), axis=1)\n",
    "    newcenterx = np.nansum(newcenterx_temp, axis=1) / counts\n",
    "    newcentery = np.nansum(newcentery_temp, axis=1) / counts\n",
    "    \n",
    "    print(\"old\", centerx, centery)\n",
    "    print(\"new\", newcenterx, newcentery)\n",
    "    \n",
    "    print(minsi)\n",
    "    print(np.nansum(newcenterx_temp, axis=1), counts, newcenterx)\n",
    "    print(np.nansum(newcentery_temp, axis=1), counts, newcentery)\n",
    "    \n",
    "    return (minsi, newcenterx, newcentery)"
   ]
  },
  {
   "cell_type": "code",
   "execution_count": 5,
   "metadata": {},
   "outputs": [
    {
     "name": "stdout",
     "output_type": "stream",
     "text": [
      "[ 0.  4.  0. -5.] [-6.  4.  0.  2.] [nan nan nan nan]\n"
     ]
    },
    {
     "data": {
      "image/png": "[encoded data removed]",
      "text/plain": [
       "<Figure size 432x288 with 1 Axes>"
      ]
     },
     "metadata": {
      "needs_background": "light"
     },
     "output_type": "display_data"
    },
    {
     "name": "stdout",
     "output_type": "stream",
     "text": [
      "          0          1         2         3\n",
      "0  9.433981   9.219544  5.385165  0.000000\n",
      "1  0.000000  10.770330  6.000000  9.433981\n",
      "[0.         9.21954446 5.38516481 0.        ]\n",
      "[1 0 0 0]\n",
      "old [-5.  0.] [ 2. -6.]\n",
      "new [-0.33333333  0.        ] [ 2. -6.]\n",
      "[1 0 0 0]\n",
      "[-1.  0.] [3 1] [-0.33333333  0.        ]\n",
      "[ 6. -6.] [3 1] [ 2. -6.]\n",
      "[ 0.  4.  0. -5.] [-6.  4.  0.  2.] [1 0 0 0]\n"
     ]
    },
    {
     "data": {
      "image/png": "[encoded data removed]",
      "text/plain": [
       "<Figure size 432x288 with 1 Axes>"
      ]
     },
     "metadata": {
      "needs_background": "light"
     },
     "output_type": "display_data"
    },
    {
     "name": "stdout",
     "output_type": "stream",
     "text": [
      "          0          1         2         3\n",
      "0  8.006941   4.772607  2.027588  4.666667\n",
      "1  0.000000  10.770330  6.000000  9.433981\n",
      "[0.         4.77260702 2.02758751 4.66666667]\n",
      "[1 0 0 0]\n",
      "old [-0.33333333  0.        ] [ 2. -6.]\n",
      "new [-0.33333333  0.        ] [ 2. -6.]\n",
      "[1 0 0 0]\n",
      "[-1.  0.] [3 1] [-0.33333333  0.        ]\n",
      "[ 6. -6.] [3 1] [ 2. -6.]\n",
      "[ 0.  4.  0. -5.] [-6.  4.  0.  2.] [1 0 0 0]\n"
     ]
    },
    {
     "data": {
      "image/png": "[encoded data removed]",
      "text/plain": [
       "<Figure size 432x288 with 1 Axes>"
      ]
     },
     "metadata": {
      "needs_background": "light"
     },
     "output_type": "display_data"
    },
    {
     "name": "stdout",
     "output_type": "stream",
     "text": [
      "          0          1         2         3\n",
      "0  8.006941   4.772607  2.027588  4.666667\n",
      "1  0.000000  10.770330  6.000000  9.433981\n",
      "[0.         4.77260702 2.02758751 4.66666667]\n",
      "[1 0 0 0]\n",
      "old [-0.33333333  0.        ] [ 2. -6.]\n",
      "new [-0.33333333  0.        ] [ 2. -6.]\n",
      "[1 0 0 0]\n",
      "[-1.  0.] [3 1] [-0.33333333  0.        ]\n",
      "[ 6. -6.] [3 1] [ 2. -6.]\n",
      "[ 0.  4.  0. -5.] [-6.  4.  0.  2.] [1 0 0 0]\n"
     ]
    },
    {
     "data": {
      "image/png": "[encoded data removed]",
      "text/plain": [
       "<Figure size 432x288 with 1 Axes>"
      ]
     },
     "metadata": {
      "needs_background": "light"
     },
     "output_type": "display_data"
    },
    {
     "name": "stdout",
     "output_type": "stream",
     "text": [
      "          0          1         2         3\n",
      "0  8.006941   4.772607  2.027588  4.666667\n",
      "1  0.000000  10.770330  6.000000  9.433981\n",
      "[0.         4.77260702 2.02758751 4.66666667]\n",
      "[1 0 0 0]\n",
      "old [-0.33333333  0.        ] [ 2. -6.]\n",
      "new [-0.33333333  0.        ] [ 2. -6.]\n",
      "[1 0 0 0]\n",
      "[-1.  0.] [3 1] [-0.33333333  0.        ]\n",
      "[ 6. -6.] [3 1] [ 2. -6.]\n",
      "[ 0.  4.  0. -5.] [-6.  4.  0.  2.] [1 0 0 0]\n"
     ]
    },
    {
     "data": {
      "image/png": "[encoded data removed]",
      "text/plain": [
       "<Figure size 432x288 with 1 Axes>"
      ]
     },
     "metadata": {
      "needs_background": "light"
     },
     "output_type": "display_data"
    },
    {
     "name": "stdout",
     "output_type": "stream",
     "text": [
      "          0          1         2         3\n",
      "0  8.006941   4.772607  2.027588  4.666667\n",
      "1  0.000000  10.770330  6.000000  9.433981\n",
      "[0.         4.77260702 2.02758751 4.66666667]\n",
      "[1 0 0 0]\n",
      "old [-0.33333333  0.        ] [ 2. -6.]\n",
      "new [-0.33333333  0.        ] [ 2. -6.]\n",
      "[1 0 0 0]\n",
      "[-1.  0.] [3 1] [-0.33333333  0.        ]\n",
      "[ 6. -6.] [3 1] [ 2. -6.]\n",
      "[ 0.  4.  0. -5.] [-6.  4.  0.  2.] [1 0 0 0]\n"
     ]
    },
    {
     "data": {
      "image/png": "[encoded data removed]",
      "text/plain": [
       "<Figure size 432x288 with 1 Axes>"
      ]
     },
     "metadata": {
      "needs_background": "light"
     },
     "output_type": "display_data"
    },
    {
     "name": "stdout",
     "output_type": "stream",
     "text": [
      "          0          1         2         3\n",
      "0  8.006941   4.772607  2.027588  4.666667\n",
      "1  0.000000  10.770330  6.000000  9.433981\n",
      "[0.         4.77260702 2.02758751 4.66666667]\n",
      "[1 0 0 0]\n",
      "old [-0.33333333  0.        ] [ 2. -6.]\n",
      "new [-0.33333333  0.        ] [ 2. -6.]\n",
      "[1 0 0 0]\n",
      "[-1.  0.] [3 1] [-0.33333333  0.        ]\n",
      "[ 6. -6.] [3 1] [ 2. -6.]\n",
      "[ 0.  4.  0. -5.] [-6.  4.  0.  2.] [1 0 0 0]\n"
     ]
    },
    {
     "data": {
      "image/png": "[encoded data removed]",
      "text/plain": [
       "<Figure size 432x288 with 1 Axes>"
      ]
     },
     "metadata": {
      "needs_background": "light"
     },
     "output_type": "display_data"
    }
   ],
   "source": [
    "plot(xs,ys,ka,centerx,centery)\n",
    "ka,centerx,centery = step_kmeans(xs, ys, centerx, centery)\n",
    "plot(xs,ys,ka,centerx,centery)\n",
    "ka,centerx,centery = step_kmeans(xs, ys, centerx, centery)\n",
    "plot(xs,ys,ka,centerx,centery)\n",
    "ka,centerx,centery = step_kmeans(xs, ys, centerx, centery)\n",
    "plot(xs,ys,ka,centerx,centery)\n",
    "ka,centerx,centery = step_kmeans(xs, ys, centerx, centery)\n",
    "plot(xs,ys,ka,centerx,centery)\n",
    "ka,centerx,centery = step_kmeans(xs, ys, centerx, centery)\n",
    "plot(xs,ys,ka,centerx,centery)\n",
    "ka,centerx,centery = step_kmeans(xs, ys, centerx, centery)\n",
    "plot(xs,ys,ka,centerx,centery)"
   ]
  }
 ],
 "metadata": {
  "kernelspec": {
   "display_name": "Python 3",
   "language": "python",
   "name": "python3"
  },
  "language_info": {
   "codemirror_mode": {
    "name": "ipython",
    "version": 3
   },
   "file_extension": ".py",
   "mimetype": "text/x-python",
   "name": "python",
   "nbconvert_exporter": "python",
   "pygments_lexer": "ipython3",
   "version": "3.6.10"
  }
 },
 "nbformat": 4,
 "nbformat_minor": 4
}
