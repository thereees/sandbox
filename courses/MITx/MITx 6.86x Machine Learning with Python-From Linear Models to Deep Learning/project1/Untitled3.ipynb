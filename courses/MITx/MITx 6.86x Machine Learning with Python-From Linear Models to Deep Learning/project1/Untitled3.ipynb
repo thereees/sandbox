{
 "cells": [
  {
   "cell_type": "code",
   "execution_count": 1,
   "metadata": {},
   "outputs": [],
   "source": [
    "import numpy as np\n",
    "from scipy.stats import norm"
   ]
  },
  {
   "cell_type": "code",
   "execution_count": 31,
   "metadata": {},
   "outputs": [
    {
     "name": "stdout",
     "output_type": "stream",
     "text": [
      "[5.13172803 1.47103149]\n",
      "[-0.86827197 -5.52896851]\n"
     ]
    }
   ],
   "source": [
    "xs = np.array([-1, 0, 4, 5, 6], dtype=np.float64)\n",
    "\n",
    "pi1 = 0.5\n",
    "pi2 = 0.5\n",
    "mu1 = 6\n",
    "std1 = 1\n",
    "mu2 = 7\n",
    "std2 = 2\n",
    "\n",
    "def log_likelihood():\n",
    "    n1 = norm(mu1,std1)\n",
    "    n2 = norm(mu2,std2)\n",
    "    \n",
    "    likelihoods1 = pi1*n1.pdf(xs)    \n",
    "    likelihoods2 = pi2*n2.pdf(xs)\n",
    "    p_in1_or_in2 = likelihoods1+likelihoods2\n",
    "    p_of_and_everything = np.multiply.reduce(p_in1_or_in2)\n",
    "    \n",
    "    return np.log(p_of_and_everything)\n",
    "\n",
    "def cluster_probs():\n",
    "    n1 = norm(mu1,std1)\n",
    "    n2 = norm(mu2,std2)\n",
    "    \n",
    "    numerator1 = n1.pdf(xs)*pi1  \n",
    "    numerator2 = n2.pdf(xs)*pi2\n",
    "    denominator = numerator1+numerator2\n",
    "    \n",
    "    return np.array([\n",
    "        numerator1/denominator,\n",
    "        numerator2/denominator])\n",
    "\n",
    "def cluster_assignments():\n",
    "    probabilities = cluster_probs()    \n",
    "    return np.where(\n",
    "        probabilities[0] > probabilities[1],\n",
    "        1, 2)\n",
    "\n",
    "def new_mu():    \n",
    "    probabilities = cluster_probs()  \n",
    "    n = np.sum(xs*probabilities, axis=1)\n",
    "    d = np.sum(probabilities, axis=1)\n",
    "    return n/d\n",
    "\n",
    "#print(log_likelihood())\n",
    "#print(cluster_probs())\n",
    "#print(cluster_assignments())\n",
    "print(new_mu())\n",
    "print(new_mu()-np.array([mu1,mu2]))\n",
    "\n",
    "\n"
   ]
  }
 ],
 "metadata": {
  "kernelspec": {
   "display_name": "Python 3",
   "language": "python",
   "name": "python3"
  },
  "language_info": {
   "codemirror_mode": {
    "name": "ipython",
    "version": 3
   },
   "file_extension": ".py",
   "mimetype": "text/x-python",
   "name": "python",
   "nbconvert_exporter": "python",
   "pygments_lexer": "ipython3",
   "version": "3.6.10"
  }
 },
 "nbformat": 4,
 "nbformat_minor": 4
}
